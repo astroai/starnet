{
 "cells": [
  {
   "cell_type": "markdown",
   "metadata": {},
   "source": [
    "# Download APOGEE data files and StarNet model\n",
    "\n",
    "In order to go through the notebooks you will need a few files. Depending on the intended usage of the following notebooks, not all of these files are necessary.\n",
    "Below is a description of each file and which notebooks it is necessary for.\n",
    "\n",
    "| file | size | content |\n",
    "| :---- | :----: | :----|\n",
    "| apStar_visits_main.h5 | 38.5GB | apStar individual visit spectra for training StarNet, created from the APOGEE DR12 release |\n",
    "| apStar_combined_main.h5 | 10.3GB | apStar combined spectra for preprocessing StarNet, created by pulling apStar combined spectra from the APOGEE DR12 |\n",
    "| high_snr_test_apids.npy | 89kB | APOGEE IDs for high S/N test set to avoid downloading the much larger apStar_visits_main.h5 |\n",
    "| training_set.h5 | 1.4GB | apStar individual visit spectra for training, useful to skip preprocessing |\n",
    "| mean_and_std.npy | 104B |  mean and standard deviations for the stellar labels used during preprocessing |\n",
    "| high_snr_test_data.h5 | 0.2GB | High S/N apStar combined spectra test set |\n",
    "| low_snr_test_data.h5 | 1GB | Low S/N apStar combined spectra test set |\n",
    "| model_tensorflow_keras.h5 | 90MB | pretrained StarNet model with keras on APOGEE DR12 | \n",
    "\n",
    "\n",
    "You can download the data from the StarNet public VOSpace at CADC. You can either:\n",
    "* browse and download from [this URL](http://apps.canfar.net/storage/list/starnet/public)\n",
    "* or download the files from the python VOSpace command line client, installed with pip:\n",
    "```\n",
    "pip install vos\n",
    "```\n",
    "You can choose a directory with enough space (~50GB) and download all files into a directory:\n",
    "```\n",
    "vcp vos:starnet/public /path/to/my/starnet/directory\n",
    "```\n",
    "Or you can copy each file within an IPython session with a function such as the one below:"
   ]
  },
  {
   "cell_type": "code",
   "execution_count": 2,
   "metadata": {
    "collapsed": true,
    "scrolled": false
   },
   "outputs": [],
   "source": [
    "import vos\n",
    "datadir=\"/home/ubuntu/starnet_data/\" # or \"/path/to/my/starnet/directory\"\n",
    "\n",
    "def starnet_download_file(filename):\n",
    "    vclient = vos.Client()\n",
    "    vclient.copy('vos:starnet/public/'+filename, datadir+filename)\n",
    "    print(filename+' downloaded')"
   ]
  },
  {
   "cell_type": "code",
   "execution_count": null,
   "metadata": {
    "collapsed": true
   },
   "outputs": [],
   "source": []
  }
 ],
 "metadata": {
  "kernelspec": {
   "display_name": "Python 2",
   "language": "python",
   "name": "python2"
  },
  "language_info": {
   "codemirror_mode": {
    "name": "ipython",
    "version": 2
   },
   "file_extension": ".py",
   "mimetype": "text/x-python",
   "name": "python",
   "nbconvert_exporter": "python",
   "pygments_lexer": "ipython2",
   "version": "2.7.13"
  }
 },
 "nbformat": 4,
 "nbformat_minor": 2
}
