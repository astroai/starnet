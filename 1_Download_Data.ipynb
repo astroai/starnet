{
 "cells": [
  {
   "cell_type": "markdown",
   "metadata": {},
   "source": [
    "# Download APOGEE data files and StarNet model\n",
    "\n",
    "In order to go through the notebooks you will need a few files. Depending on the intended usage of the following notebooks, not all of these files are necessary.\n",
    "Below is a description of each file and which notebooks it is necessary for.\n",
    "\n",
    "| file | size | content |\n",
    "| :---- | :----: | :----|\n",
    "| apStar_visits_main.h5 | 35.9GB | apStar individual visit spectra for training StarNet, created from the APOGEE DR13. Used in 2_Preprocessing_of_Training_Data.ipynb |\n",
    "| apStar_combined_main.h5 | 9.6GB | apStar combined spectra for preprocessing StarNet, created by pulling apStar combined spectra from the APOGEE DR13. Used in 3_Preprocessing_of_Test_Data.ipynb |\n",
    "| training_data.h5 | 1.2GB | apStar individual visit spectra for training, useful to skip preprocessing. Used in 3_Preprocessing_of_Test_Data.ipynb and 4_Train_Model.ipynb |\n",
    "| mean_and_std.npy | 104B |  mean and standard deviations for the stellar labels used during preprocessing. Used in 4_Train_Model.ipynb and 5_Test_Model.ipynb |\n",
    "| test_data.h5 | 1.13GB | apStar combined spectra test set. Used in 5_Test_Model.ipynb |\n",
    "| starnet_cnn.h5 | 85MB | pretrained StarNet model with keras (tensorflow as the backend) on APOGEE DR13. Used in 5_Test_Model.ipynb | \n",
    "\n",
    "\n",
    "You can download the data from the StarNet public VOSpace at CADC. You can either:\n",
    "* browse and download from [this URL](http://apps.canfar.net/storage/list/starnet/public)\n",
    "* or download the files from the python VOSpace command line client, installed with pip:\n",
    "```\n",
    "pip install vos\n",
    "```\n",
    "```\n",
    "getcert\n",
    "```\n",
    "You can choose a directory with enough space (~50GB) and download all files into a directory:\n",
    "```\n",
    "vcp vos:starnet/public /path/to/my/starnet/directory\n",
    "```\n",
    "Or you can copy each file within an IPython session with a function such as the one below:"
   ]
  },
  {
   "cell_type": "code",
   "execution_count": 1,
   "metadata": {
    "collapsed": true,
    "scrolled": false
   },
   "outputs": [],
   "source": [
    "import vos\n",
    "datadir=\"\"\n",
    "\n",
    "def starnet_download_file(filename):\n",
    "    vclient = vos.Client()\n",
    "    vclient.copy('vos:starnet/public/'+filename, datadir+filename)\n",
    "    print(filename+' downloaded')"
   ]
  },
  {
   "cell_type": "code",
   "execution_count": 2,
   "metadata": {},
   "outputs": [
    {
     "name": "stdout",
     "output_type": "stream",
     "text": [
      "starnet_cnn.h5 downloaded\n"
     ]
    }
   ],
   "source": [
    "# for example:\n",
    "starnet_download_file('starnet_cnn.h5')"
   ]
  },
  {
   "cell_type": "code",
   "execution_count": null,
   "metadata": {
    "collapsed": true
   },
   "outputs": [],
   "source": []
  }
 ],
 "metadata": {
  "kernelspec": {
   "display_name": "Python 2",
   "language": "python",
   "name": "python2"
  },
  "language_info": {
   "codemirror_mode": {
    "name": "ipython",
    "version": 2
   },
   "file_extension": ".py",
   "mimetype": "text/x-python",
   "name": "python",
   "nbconvert_exporter": "python",
   "pygments_lexer": "ipython2",
   "version": "2.7.13"
  }
 },
 "nbformat": 4,
 "nbformat_minor": 2
}
