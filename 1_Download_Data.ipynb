{
 "cells": [
  {
   "cell_type": "markdown",
   "metadata": {},
   "source": [
    "# Download Data Files for use of notebooks\n",
    "required packages:\n",
    " - vos"
   ]
  },
  {
   "cell_type": "markdown",
   "metadata": {},
   "source": [
    "## The following files are available through VOSpace to the public. \n",
    "### To access these files: \n",
    " 1. create a CADC account\n",
    " 2. install vos in command line with:\n",
    " ```\n",
    " pip install vos\n",
    " ```\n",
    " 3. in your command line type: \n",
    " ```\n",
    " getCert \n",
    " ```\n",
    " and input your account information"
   ]
  },
  {
   "cell_type": "markdown",
   "metadata": {},
   "source": [
    " Depending on the intended usage of these notebooks, not all of these files are necessary, below is a description of each file and which notebooks it is necessary for, followed by the necessary code to download the file"
   ]
  },
  {
   "cell_type": "code",
   "execution_count": 1,
   "metadata": {
    "collapsed": true
   },
   "outputs": [],
   "source": [
    "import vos"
   ]
  },
  {
   "cell_type": "markdown",
   "metadata": {},
   "source": [
    "\n",
    "## 1. apStar_visits_main.h5\n",
    "### description: \n",
    "This file contains apStar individual visit spectra along with APOGEE data associated with each star\n",
    "### size: \n",
    "38.5GB\n",
    "### used in: \n",
    "This file is necessary for $2\\_Preprocessing\\_of\\_Training\\_Data.ipynb$ where it is used to create a training set\n",
    "### Notes:\n",
    "This file was created by pulling apStar visits from the APOGEE v603.fits file. Instructions on dealing with apogee data can be found here: https://github.com/jobovy/apogee but this is not necessary for for the use of this notebook, as the files have already been created"
   ]
  },
  {
   "cell_type": "code",
   "execution_count": null,
   "metadata": {
    "collapsed": true
   },
   "outputs": [],
   "source": [
    "filename='apStar_visits_main.h5'\n",
    "vclient = vos.Client()\n",
    "vclient.copy('vos:starnet/public/'+filename, filename)\n",
    "print(filename+' downloaded')"
   ]
  },
  {
   "cell_type": "markdown",
   "metadata": {},
   "source": [
    "## 2. apStar_combined_main.h5\n",
    "### description: \n",
    "This file contains apStar combined spectra along with APOGEE data associated with each star\n",
    "### size: \n",
    "10.3GB\n",
    "### used in: \n",
    "This file is necessary for $3\\_Preprocessing\\_of\\_Test\\_Data.ipynb$ where it is used to create a two test sets. It is also used in $6\\_Error\\_Propagation.ipynb$ to calculate the scatter between the model predictions and ASPCAP labels in different regions of the label-space.\n",
    "### Notes:\n",
    "This file was created by pulling apStar combined spectra from the APOGEE v603.fits file. Instructions on dealing with apogee data can be found here: https://github.com/jobovy/apogee but this is not necessary for for the use of this notebook, as the files have already been created"
   ]
  },
  {
   "cell_type": "code",
   "execution_count": null,
   "metadata": {
    "collapsed": true
   },
   "outputs": [],
   "source": [
    "filename='apStar_combined_main.h5'\n",
    "vclient = vos.Client()\n",
    "vclient.copy('vos:starnet/public/'+filename, filename)\n",
    "print(filename+' downloaded')"
   ]
  },
  {
   "cell_type": "markdown",
   "metadata": {},
   "source": [
    "## 3. high_snr_test_apids.npy\n",
    "### description: \n",
    "This file contains APOGEE IDs for a High S/N test set.\n",
    "### size: \n",
    "89 kB\n",
    "### used in: \n",
    "This file is necessary for $3\\_Preprocessing\\_of\\_Test\\_Data.ipynb$ where it is used to separate a test set. \n",
    "### Notes: \n",
    "This file can also be created in $2\\_Preprocessing\\_of\\_Training\\_Data.ipynb$ but is made available so that users do not have to download apStar_visits_main.h5 (a much larger file) if they are interested in skipping $2\\_Preprocessing\\_of\\_Training\\_Data.ipynb$."
   ]
  },
  {
   "cell_type": "code",
   "execution_count": 2,
   "metadata": {
    "collapsed": false
   },
   "outputs": [
    {
     "name": "stdout",
     "output_type": "stream",
     "text": [
      "high_snr_test_apids.npy downloaded\n"
     ]
    }
   ],
   "source": [
    "filename='high_snr_test_apids.npy'\n",
    "vclient = vos.Client()\n",
    "vclient.copy('vos:starnet/public/'+filename, filename)\n",
    "print(filename+' downloaded')"
   ]
  },
  {
   "cell_type": "markdown",
   "metadata": {},
   "source": [
    "## 4. training_set.h5\n",
    "### description: \n",
    "This file contains apStar individual visit spectra along with APOGEE data associated with each star that is used for the training of your model\n",
    "### size: \n",
    "1.4GB\n",
    "### used in: \n",
    "This file is necessary for $4\\_Train\\_Model\\_Keras\\_1.ipynb$ and/or $4\\_Train\\_Model\\_Keras\\_2.ipynb$ where it is used to train the model. \n",
    "### Notes: \n",
    "This file can also be created in $2\\_Preprocessing\\_of\\_Training\\_Data.ipynb$ but is made available so that users do not have to download apStar_visits_main.h5 (a much larger file) if they are interested in skipping $2\\_Preprocessing\\_of\\_Training\\_Data.ipynb$. \n",
    "### IMPORTANT: \n",
    "If you choose to skip $2\\_Preprocessing\\_of\\_Training\\_Data.ipynb$, I advise at least taking a look at $2\\_Preprocessing\\_of\\_Training\\_Data.ipynb$ in order to understand the steps taken to create the training set. The data mining of the training set is perhaps the most crucial part of creating a quality neural network model."
   ]
  },
  {
   "cell_type": "code",
   "execution_count": 3,
   "metadata": {
    "collapsed": false
   },
   "outputs": [
    {
     "name": "stdout",
     "output_type": "stream",
     "text": [
      "training_data.h5 downloaded\n"
     ]
    }
   ],
   "source": [
    "filename='training_data.h5'\n",
    "vclient = vos.Client()\n",
    "vclient.copy('vos:starnet/public/'+filename, filename)\n",
    "print(filename+' downloaded')"
   ]
  },
  {
   "cell_type": "markdown",
   "metadata": {},
   "source": [
    "## 5. mean_and_std.npy\n",
    "### description: \n",
    "This file contains the mean and standard deviations for the stellar labels, used to normalize the labels before training and denormalize the labels after testing.\n",
    "### size: \n",
    "104 bytes\n",
    "### used in: \n",
    "This file is necessary for $4\\_Train\\_Model\\_Keras\\_1.ipynb$, $4\\_Train\\_Model\\_Keras\\_2.ipynb$, and/or  $5\\_Test\\_Model.ipynb$ where it is used to train the model. \n",
    "### Notes: \n",
    "This file can also be created in $3\\_Preprocessing\\_of\\_Test\\_Data.ipynb$ but is made available so that users do not have to download apStar_combined_main.h5 (a much larger file) if they are interested in skipping $3\\_Preprocessing\\_of\\_Test\\_Data.ipynb$."
   ]
  },
  {
   "cell_type": "code",
   "execution_count": 4,
   "metadata": {
    "collapsed": false
   },
   "outputs": [
    {
     "name": "stdout",
     "output_type": "stream",
     "text": [
      "mean_and_std.npy downloaded\n"
     ]
    }
   ],
   "source": [
    "filename='mean_and_std.npy'\n",
    "vclient = vos.Client()\n",
    "vclient.copy('vos:starnet/public/'+filename, filename)\n",
    "print(filename+' downloaded')"
   ]
  },
  {
   "cell_type": "markdown",
   "metadata": {},
   "source": [
    "## 6. high_snr_test_data.h5\n",
    "### description: \n",
    "This file contains High S/N apStar combined spectra along with APOGEE data associated with each star that is used for the testing of your model\n",
    "### size: \n",
    "0.2GB\n",
    "### used in: \n",
    "This file is necessary for $5\\_Test\\_Model.ipynb$ where it is used to test the model. \n",
    "### Notes: \n",
    "This file can also be created in $3\\_Preprocessing\\_of\\_Test\\_Data.ipynb$ but is made available so that users do not have to download apStar_combined_main.h5 (a much larger file) if they are interested in skipping $3\\_Preprocessing\\_of\\_Test\\_Data.ipynb$."
   ]
  },
  {
   "cell_type": "code",
   "execution_count": 5,
   "metadata": {
    "collapsed": false
   },
   "outputs": [
    {
     "name": "stdout",
     "output_type": "stream",
     "text": [
      "high_snr_test_data.h5 downloaded\n"
     ]
    }
   ],
   "source": [
    "filename='high_snr_test_data.h5'\n",
    "vclient = vos.Client()\n",
    "vclient.copy('vos:starnet/public/'+filename, filename)\n",
    "print(filename+' downloaded')"
   ]
  },
  {
   "cell_type": "markdown",
   "metadata": {},
   "source": [
    "## 7. low_snr_test_data.h5\n",
    "### description: \n",
    "This file contains Low S/N apStar combined spectra along with APOGEE data associated with each star that is used for the testing of your model\n",
    "### size: \n",
    "1.0GB\n",
    "### used in: \n",
    "This file is necessary for $5\\_Test\\_Model.ipynb$ where it is used to test the model. \n",
    "### Notes: \n",
    "This file can also be created in $3\\_Preprocessing\\_of\\_Test\\_Data.ipynb$ but is made available so that users do not have to download apStar_combined_main.h5 (a much larger file) if they are interested in skipping $3\\_Preprocessing\\_of\\_Test\\_Data.ipynb$."
   ]
  },
  {
   "cell_type": "code",
   "execution_count": 6,
   "metadata": {
    "collapsed": false
   },
   "outputs": [
    {
     "name": "stdout",
     "output_type": "stream",
     "text": [
      "low_snr_test_data.h5 downloaded\n"
     ]
    }
   ],
   "source": [
    "filename='low_snr_test_data.h5'\n",
    "vclient = vos.Client()\n",
    "vclient.copy('vos:starnet/public/'+filename, filename)\n",
    "print(filename+' downloaded')"
   ]
  },
  {
   "cell_type": "markdown",
   "metadata": {
    "collapsed": true
   },
   "source": [
    "## 8. Model_Tensorflow_Keras_1.h5\n",
    "### description: \n",
    "This file is a pretrained model. The model was trained with Keras 1, using Tensorflow as the backend\n",
    "### size: \n",
    "90MB\n",
    "### used in: \n",
    "This file can be used for $5\\_Test\\_Model.ipynb$ where it is used to predict stellar labels for the test sets. \n",
    "### Notes: \n",
    "A similar file can also be created in $4\\_Train\\_Model\\_Keras\\_1.ipynb$."
   ]
  },
  {
   "cell_type": "code",
   "execution_count": 7,
   "metadata": {
    "collapsed": false
   },
   "outputs": [
    {
     "name": "stdout",
     "output_type": "stream",
     "text": [
      "Model_Tensorflow_Keras_1.h5 downloaded\n"
     ]
    }
   ],
   "source": [
    "filename='Model_Tensorflow_Keras_1.h5'\n",
    "vclient = vos.Client()\n",
    "vclient.copy('vos:starnet/public/'+filename, filename)\n",
    "print(filename+' downloaded')"
   ]
  },
  {
   "cell_type": "markdown",
   "metadata": {},
   "source": [
    "## 9. Model_Theano_Keras_1.h5\n",
    "### description: \n",
    "This file is a pretrained model. The model was trained with Keras 1, using Theano as the backend\n",
    "### size: \n",
    "90MB\n",
    "### used in: \n",
    "This file can be used for $5\\_Test\\_Model.ipynb$ where it is used to predict stellar labels for the test sets and in $6\\_Error\\_Propogation$ to produce statistical errors for the model predictions. \n",
    "### Notes: \n",
    "A similar file can also be created in $4\\_Train\\_Model\\_Keras\\_1.ipynb$."
   ]
  },
  {
   "cell_type": "code",
   "execution_count": 8,
   "metadata": {
    "collapsed": false
   },
   "outputs": [
    {
     "name": "stdout",
     "output_type": "stream",
     "text": [
      "Model_Theano_Keras_1.h5 downloaded\n"
     ]
    }
   ],
   "source": [
    "filename='Model_Theano_Keras_1.h5'\n",
    "vclient = vos.Client()\n",
    "vclient.copy('vos:starnet/public/'+filename, filename)\n",
    "print(filename+' downloaded')"
   ]
  },
  {
   "cell_type": "markdown",
   "metadata": {},
   "source": [
    "## 10. Model_Tensorflow_Keras_2.h5\n",
    "### description: \n",
    "This file is a pretrained model. The model was trained with Keras 1, using Tensorflow as the backend\n",
    "### size: \n",
    "90MB\n",
    "### used in: \n",
    "This file can be used for $5\\_Test\\_Model.ipynb$ where it is used to predict stellar labels for the test sets. \n",
    "### Notes: \n",
    "A similar file can also be created in $4\\_Train\\_Model\\_Keras\\_2.ipynb$."
   ]
  },
  {
   "cell_type": "code",
   "execution_count": 9,
   "metadata": {
    "collapsed": false
   },
   "outputs": [
    {
     "name": "stdout",
     "output_type": "stream",
     "text": [
      "Model_Tensorflow_Keras_2.h5 downloaded\n"
     ]
    }
   ],
   "source": [
    "filename='Model_Tensorflow_Keras_2.h5'\n",
    "vclient = vos.Client()\n",
    "vclient.copy('vos:starnet/public/'+filename, filename)\n",
    "print(filename+' downloaded')"
   ]
  },
  {
   "cell_type": "markdown",
   "metadata": {},
   "source": [
    "## 11. Model_Theano_Keras_2.h5\n",
    "### description: \n",
    "This file is a pretrained model. The model was trained with Keras 1, using Theano as the backend\n",
    "### size: \n",
    "90MB\n",
    "### used in: \n",
    "This file can be used for $5\\_Test\\_Model.ipynb$ where it is used to predict stellar labels for the test sets and in $6\\_Error\\_Propogation$ to produce statistical errors for the model predictions. \n",
    "### Notes: \n",
    "A similar file can also be created in $4\\_Train\\_Model\\_Keras\\_2.ipynb$."
   ]
  },
  {
   "cell_type": "code",
   "execution_count": 10,
   "metadata": {
    "collapsed": false
   },
   "outputs": [
    {
     "name": "stdout",
     "output_type": "stream",
     "text": [
      "Model_Theano_Keras_2.h5 downloaded\n"
     ]
    }
   ],
   "source": [
    "filename='Model_Theano_Keras_2.h5'\n",
    "vclient = vos.Client()\n",
    "vclient.copy('vos:starnet/public/'+filename, filename)\n",
    "print(filename+' downloaded')"
   ]
  },
  {
   "cell_type": "code",
   "execution_count": null,
   "metadata": {
    "collapsed": true
   },
   "outputs": [],
   "source": []
  }
 ],
 "metadata": {
  "kernelspec": {
   "display_name": "Python 2",
   "language": "python",
   "name": "python2"
  },
  "language_info": {
   "codemirror_mode": {
    "name": "ipython",
    "version": 2
   },
   "file_extension": ".py",
   "mimetype": "text/x-python",
   "name": "python",
   "nbconvert_exporter": "python",
   "pygments_lexer": "ipython2",
   "version": "2.7.13"
  }
 },
 "nbformat": 4,
 "nbformat_minor": 2
}
