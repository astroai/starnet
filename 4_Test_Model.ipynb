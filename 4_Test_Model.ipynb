{
 "cells": [
  {
   "cell_type": "markdown",
   "metadata": {},
   "source": [
    "# Test Model\n",
    "\n",
    "## This notebook takes you through the steps of how to test a trained model on given test data sets\n",
    "## necessary files for training:\n",
    "### - high_snr_test_data.h5 (can be created in $2\\_Preprocessing\\_of\\_Training\\_Data.ipynb$ or downloaded from: [url])\n",
    "### - low_snr_test_data.h5 (can be created in $2\\_Preprocessing\\_of\\_Training\\_Data.ipynb$ or downloaded from: [url])\n",
    "### - mean_and_std.npy (can be created in $2\\_Preprocessing\\_of\\_Test\\_Data.ipynb$ or downloaded from: [url])\n",
    "### - model file (can be created in $3\\_Train\\_Model$ or downloaded from: [url])\n",
    "## required packages:\n",
    "### - numpy\n",
    "### - h5py\n",
    "### - random\n",
    "### - time\n",
    "### - sklearn\n",
    "### - Keras (must be using the same version used to train the model)\n",
    "### - Tensorflow or Theano (backend for Keras)\n",
    "#### - NOTE: for error propagation, the model must be trained with Theano as the backend\n",
    "### - Matplotlib and seaborn are only necessary to make plots of predictions vs. ASPCAP Dr12 labels"
   ]
  },
  {
   "cell_type": "code",
   "execution_count": null,
   "metadata": {
    "collapsed": false
   },
   "outputs": [],
   "source": [
    "import numpy as np\n",
    "import matplotlib.pyplot as plt\n",
    "import seaborn as sns\n",
    "from keras.models import load_model\n",
    "from sklearn.metrics import r2_score\n",
    "import h5py\n",
    "import time\n",
    "from scipy.stats import norm\n",
    "from matplotlib import gridspec"
   ]
  },
  {
   "cell_type": "markdown",
   "metadata": {},
   "source": [
    "## Obtain data for normalizing labels"
   ]
  },
  {
   "cell_type": "code",
   "execution_count": null,
   "metadata": {
    "collapsed": false
   },
   "outputs": [],
   "source": [
    "mean_and_std = np.load('mean_and_std.npy')\n",
    "mean_labels = mean_and_std[0]\n",
    "std_labels = mean_and_std[1]\n",
    "num_labels = mean_and_std.shape[1]"
   ]
  },
  {
   "cell_type": "markdown",
   "metadata": {},
   "source": [
    "## Define function to normalize labels to a mean of zero and unit variance and denormalize labels"
   ]
  },
  {
   "cell_type": "code",
   "execution_count": null,
   "metadata": {
    "collapsed": true
   },
   "outputs": [],
   "source": [
    "def normalize(lb):\n",
    "    return (lb-mean_labels)/std_labels\n",
    "\n",
    "def denormalize(lb_norm):\n",
    "    return ((lb_norm*std_labels)+mean_labels)"
   ]
  },
  {
   "cell_type": "markdown",
   "metadata": {},
   "source": [
    "## Define functions to obtain test data"
   ]
  },
  {
   "cell_type": "code",
   "execution_count": null,
   "metadata": {
    "collapsed": true
   },
   "outputs": [],
   "source": [
    "def get_data(path):\n",
    "    f = h5py.File(path,\"r\")\n",
    "    spectra_array = f['spectra'][:]\n",
    "    spectra_array = spectra_array.reshape((spectra_array.shape[0],spectra_array.shape[1],1))\n",
    "    ap_ids = f['Ap_IDs'][:]\n",
    "    labels_array = np.column_stack((f['TEFF'][:],f['LOGG'][:],f['FE_H'][:]))\n",
    "    snr_array = f['combined_snr'][:]  \n",
    "    f.close()\n",
    "    return  (ap_ids, snr_array, spectra_array, labels_array)"
   ]
  },
  {
   "cell_type": "markdown",
   "metadata": {},
   "source": [
    "## obtain test data"
   ]
  },
  {
   "cell_type": "code",
   "execution_count": null,
   "metadata": {
    "collapsed": false
   },
   "outputs": [],
   "source": [
    "savename_test_1 = ('high_snr_test_data.h5')\n",
    "test_1_ap_ids, test_1_snr, test_1_spectra, test_1_labels = get_data(savename_test_1)\n",
    "print('High S/N test set contains ' +str(len(test_1_spectra))+' stars')\n",
    "\n",
    "savename_test_2 = ('low_snr_test_data.h5')\n",
    "test_2_ap_ids, test_2_snr, test_2_spectra, test_2_labels = get_data(savename_test_2)\n",
    "print('Low S/N test set contains ' +str(len(test_2_spectra))+' stars')"
   ]
  },
  {
   "cell_type": "markdown",
   "metadata": {},
   "source": [
    "# Load Model"
   ]
  },
  {
   "cell_type": "code",
   "execution_count": null,
   "metadata": {
    "collapsed": false
   },
   "outputs": [],
   "source": [
    "model_name = 'Model_0.h5'\n",
    "model = load_model(model_name)\n",
    "print(model_name+' loaded.')"
   ]
  },
  {
   "cell_type": "markdown",
   "metadata": {},
   "source": [
    "# Predict on test sets"
   ]
  },
  {
   "cell_type": "code",
   "execution_count": null,
   "metadata": {
    "collapsed": false
   },
   "outputs": [],
   "source": [
    "time1 = time.time()\n",
    "test_1_pred = denormalize(model.predict(test_1_spectra))\n",
    "test_2_pred = denormalize(model.predict(test_2_spectra))\n",
    "print(\"{0:.2f}\".format(time.time()-time1)+' seconds to make '+str(len(test_1_spectra)+len(test_2_spectra))+' predictions')"
   ]
  },
  {
   "cell_type": "markdown",
   "metadata": {},
   "source": [
    "# Plot HIGH_SNR  test set predictions"
   ]
  },
  {
   "cell_type": "code",
   "execution_count": null,
   "metadata": {
    "collapsed": true
   },
   "outputs": [],
   "source": [
    "# label names\n",
    "label_names = ['$T_{\\mathrm{eff}}$',' $\\log(g)$','$[Fe/H]$']"
   ]
  },
  {
   "cell_type": "code",
   "execution_count": null,
   "metadata": {
    "collapsed": false
   },
   "outputs": [],
   "source": [
    "all_targets = test_1_labels\n",
    "all_pred = test_1_pred\n",
    "\n",
    "x_lab='DR12'\n",
    "y_lab='StarNet'\n",
    "\n",
    "difference = all_pred-all_targets\n",
    "mean_diff = np.median(difference, axis=0)\n",
    "std_diff = np.std(difference, axis=0)\n",
    "\n",
    "r2 = r2_score(all_targets, all_pred,multioutput='raw_values')\n",
    "\n",
    "lims = [[(3800,5800),(-0.50,4.50),(-2.5,0.6)],[(-1000,1000),(-2.0,2.0),(-1.,1.)]]\n",
    "\n",
    "fig = plt.figure(figsize=(38, 30)) \n",
    "gs = gridspec.GridSpec(3, 1)\n",
    "\n",
    "for i in range(num_labels):\n",
    "\n",
    "    ax0 = plt.subplot(gs[i,0])\n",
    "    ax0.set_facecolor('white')\n",
    "    ax0.grid(True)\n",
    "    points = ax0.scatter(test_1_labels[:,i], difference[:,i], c='gray', s=100)\n",
    "\n",
    "    sns.set_style(\"ticks\")\n",
    "        \n",
    "    ax0.set_xlabel('ASPCAP '+x_lab+' ' + label_names[i], fontsize=70)\n",
    "    if i==1:\n",
    "        ax0.set_ylabel('$\\Delta$ ' + label_names[i]+ '\\n('+y_lab+'-'+x_lab+')\\n', fontsize=70)\n",
    "    else:\n",
    "        ax0.set_ylabel('$\\Delta$ ' + label_names[i]+ '\\n('+y_lab+'-'+x_lab+')', fontsize=70)  \n",
    "    \n",
    "    ax0.tick_params(labelsize=55,width=1,length=10)\n",
    "    \n",
    "    ax0.set_xlim(lims[0][i])\n",
    "    ax0.set_ylim(lims[1][i])\n",
    "    ax0.plot([lims[0][i][0],lims[0][i][1]], [0,0], 'k--', lw=2)\n",
    "    \n",
    "\n",
    "    bbox_props = dict(boxstyle=\"square,pad=0.3\", fc=\"w\", ec=\"k\", lw=3)\n",
    "    if i==0:\n",
    "        plt.figtext(0.27, (1-((i*0.332)+0.24)),'$\\widetilde{x}$:   '+\"{0:.2f}\".format(mean_diff[i])+'           $\\sigma$:  '+\"{0:.2f}\".format(std_diff[i])+'            $r^2$:  '+\"{0:.2f}\".format(r2[i]),\n",
    "            size=70, bbox=bbox_props)\n",
    "    else:\n",
    "        plt.figtext(0.27, (1-((i*0.332)+0.24)),'$\\widetilde{x}$:   '+\"{0:.3f}\".format(mean_diff[i])+'           $\\sigma$:  '+\"{0:.3f}\".format(std_diff[i])+'            $r^2$:  '+\"{0:.3f}\".format(r2[i]),\n",
    "            size=70, bbox=bbox_props)\n",
    "\n",
    "    \n",
    "plt.tight_layout()\n",
    "\n",
    "plt.show()\n"
   ]
  },
  {
   "cell_type": "markdown",
   "metadata": {},
   "source": [
    "# Plot Low S/N test set predictions"
   ]
  },
  {
   "cell_type": "code",
   "execution_count": null,
   "metadata": {
    "collapsed": false
   },
   "outputs": [],
   "source": [
    "# Plot First test set (No persistence) predictions\n",
    "all_targets = test_2_labels\n",
    "all_pred = test_2_pred\n",
    "z = test_2_snr\n",
    "\n",
    "x_lab='DR12'\n",
    "y_lab='StarNet'\n",
    "\n",
    "\n",
    "difference = all_pred-all_targets\n",
    "mean_diff = np.median(difference, axis=0)\n",
    "std_diff = np.std(difference, axis=0)\n",
    "\n",
    "indices_a = np.where(z>=150)\n",
    "indices_b = np.where(z<100)\n",
    "difference_a = difference[indices_a,:]\n",
    "difference_b = difference[indices_b,:]\n",
    "\n",
    "r2 = r2_score(all_targets, all_pred,multioutput='raw_values')\n",
    "\n",
    "\n",
    "cmap = sns.cubehelix_palette(8, start=2.8, rot=.1, dark=0, light=.95, as_cmap=True)\n",
    "\n",
    "lims = [[(3800,5800),(-0.50,4.50),(-2.5,0.6)],[(-1000,1000),(-2.0,2.0),(-1.,1.)]]\n",
    "ditribution_lims = [(-200,200),(-0.4,0.4),(-0.2,0.2)]\n",
    "\n",
    "fig = plt.figure(figsize=(38, 30)) \n",
    "gs = gridspec.GridSpec(3, 2,  width_ratios=[4., 1])\n",
    "\n",
    "\n",
    "for i in range(num_labels):\n",
    "\n",
    "    ax0 = plt.subplot(gs[i,0])\n",
    "    points = ax0.scatter(all_targets[:,i], difference[:,i], c=z, s=100, cmap=cmap)\n",
    "    sns.set_style(\"ticks\")\n",
    "    \n",
    "    ax0.set_xlabel('ASPCAP '+x_lab+' ' + label_names[i], fontsize=70)\n",
    "    if i==1:\n",
    "        ax0.set_ylabel('$\\Delta$ ' + label_names[i]+ '\\n('+y_lab+' - '+x_lab+')\\n', fontsize=70)\n",
    "    else:\n",
    "        ax0.set_ylabel('$\\Delta$ ' + label_names[i]+ '\\n('+y_lab+' - '+x_lab+')', fontsize=70)  \n",
    "    \n",
    "    ax0.set_facecolor('white')\n",
    "    ax0.tick_params(labelsize=50,width=1,length=10)\n",
    "    ax0.set_xlim(lims[0][i])\n",
    "    ax0.set_ylim(lims[1][i])\n",
    "    ax0.plot([lims[0][i][0],lims[0][i][1]], [0,0], 'k--', lw=2)    \n",
    "    ax0.grid(True)\n",
    " \n",
    "    xmin, xmax = ditribution_lims[i]\n",
    "    \n",
    "    y_a = difference_a[0,:,i][(difference_a[0,:,i]>=xmin)&(difference_a[0,:,i]<=xmax)]\n",
    "    y_b = difference_b[0,:,i][(difference_b[0,:,i]>=xmin)&(difference_b[0,:,i]<=xmax)]\n",
    "    \n",
    "    ax1 = plt.subplot(gs[i,1])\n",
    "    a = sns.distplot(y_a, vertical=True,hist=False, rug=False, ax=ax1,kde_kws={\"color\": cmap(200), \"lw\": 10})\n",
    "    b = sns.distplot(y_b,vertical=True,hist=False, rug=False, ax=ax1,kde_kws={\"color\": cmap(100), \"lw\": 10})\n",
    "    \n",
    "    a.set_ylim(ditribution_lims[i])\n",
    "    b.set_ylim(ditribution_lims[i])\n",
    "    \n",
    "    ax1.tick_params(\n",
    "    axis='x',          \n",
    "    which='both',     \n",
    "    bottom='off',      \n",
    "    top='off',         \n",
    "    labelbottom='off',width=1,length=10)\n",
    "    \n",
    "    ax1.tick_params(\n",
    "    axis='y',          \n",
    "    which='both',   \n",
    "    left='off',     \n",
    "    right='on',        \n",
    "    labelleft='off',\n",
    "    labelright='on',\n",
    "    labelsize=50,width=1,length=10)\n",
    "    \n",
    "    ax1.set_yticklabels([' ',' '+str(ditribution_lims[i][0]/2),'0',' '+str(ditribution_lims[i][1]/2),' '])\n",
    "\n",
    "    bbox_props = dict(boxstyle=\"square,pad=0.3\", fc=\"w\", ec=\"k\", lw=3)\n",
    "\n",
    "    \n",
    "    if i==0:\n",
    "        plt.figtext(0.185, (1-((i*0.332)+0.24)),'$\\widetilde{x}$:  '+\"{0:.2f}\".format(mean_diff[i])+'    $\\sigma$:  '+\"{0:.2f}\".format(std_diff[i])+'    $r^2$:  '+\"{0:.2f}\".format(r2[i]),\n",
    "            size=70, bbox=bbox_props)\n",
    "    else:\n",
    "        plt.figtext(0.185, (1-((i*0.332)+0.24)),'$\\widetilde{x}$:  '+\"{0:.3f}\".format(mean_diff[i])+'    $\\sigma$:  '+\"{0:.3f}\".format(std_diff[i])+'    $r^2$:  '+\"{0:.3f}\".format(r2[i]),\n",
    "            size=70, bbox=bbox_props)\n",
    "\n",
    "cbar_ax = fig.add_axes([0.9, 0.1, 0.02, 0.83])\n",
    "fig.colorbar(points,cax=cbar_ax)\n",
    "cbar = fig.colorbar(points, cax=cbar_ax, extend='neither', spacing='proportional', orientation='vertical', format=\"%.0f\")\n",
    "cbar.set_label('SNR', size=65)\n",
    "cbar.ax.tick_params(labelsize=50,width=1,length=10) \n",
    "\n",
    "cbar.ax.set_yticklabels(['80','100','120','140','160','180'])\n",
    "\n",
    "plt.tight_layout()\n",
    "fig.subplots_adjust(right=0.8)\n",
    "\n",
    "plt.show()"
   ]
  },
  {
   "cell_type": "code",
   "execution_count": null,
   "metadata": {
    "collapsed": false
   },
   "outputs": [],
   "source": []
  },
  {
   "cell_type": "code",
   "execution_count": null,
   "metadata": {
    "collapsed": true
   },
   "outputs": [],
   "source": []
  },
  {
   "cell_type": "code",
   "execution_count": null,
   "metadata": {
    "collapsed": true
   },
   "outputs": [],
   "source": []
  }
 ],
 "metadata": {
  "kernelspec": {
   "display_name": "Python 2",
   "language": "python",
   "name": "python2"
  },
  "language_info": {
   "codemirror_mode": {
    "name": "ipython",
    "version": 2
   },
   "file_extension": ".py",
   "mimetype": "text/x-python",
   "name": "python",
   "nbconvert_exporter": "python",
   "pygments_lexer": "ipython2",
   "version": "2.7.13"
  }
 },
 "nbformat": 4,
 "nbformat_minor": 2
}
