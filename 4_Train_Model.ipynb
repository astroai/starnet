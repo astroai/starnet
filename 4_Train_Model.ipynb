{
 "cells": [
  {
   "cell_type": "markdown",
   "metadata": {},
   "source": [
    "# Train the StarNet Model\n",
    "\n",
    "This notebook takes you through the steps of how to train a StarNet Model\n",
    "- Required Python packages: `numpy h5py keras`\n",
    "- Required data files: training_data.h5, mean_and_std.npy\n",
    "\n",
    "Note: We use tensorflow for the keras backend."
   ]
  },
  {
   "cell_type": "code",
   "execution_count": 1,
   "metadata": {},
   "outputs": [
    {
     "name": "stderr",
     "output_type": "stream",
     "text": [
      "Using TensorFlow backend.\n"
     ]
    }
   ],
   "source": [
    "import numpy as np\n",
    "import h5py\n",
    "import random\n",
    "\n",
    "from keras.models import Sequential\n",
    "from keras.layers import Dense, InputLayer, Flatten\n",
    "from keras.layers.convolutional import Conv1D\n",
    "from keras.layers.convolutional import MaxPooling1D\n",
    "from keras.optimizers import Adam\n",
    "from keras.callbacks import EarlyStopping, ReduceLROnPlateau\n",
    "\n",
    "datadir = '/home/ubuntu/starnet_data/'"
   ]
  },
  {
   "cell_type": "markdown",
   "metadata": {},
   "source": [
    "** Batch the Training Data **\n",
    "\n",
    "Define a function that will return a batch of data from an h5 file in the form of an HDF5 matrix. This enables the user to only load a batch of spectra at a time while training.\n",
    "\n",
    "Within this function the labels will be normalized to approximately have a mean of zero and unit variance.\n",
    "\n",
    "NOTE: This is necessary to put output labels on a similar scale in order for the model to train properly, this process is reversed in the test stage to give the output labels their proper units"
   ]
  },
  {
   "cell_type": "code",
   "execution_count": 2,
   "metadata": {
    "collapsed": true
   },
   "outputs": [],
   "source": [
    "def load_batch_from_h5(data_file, num_objects, batch_size, indx, mu_std=''):\n",
    "        \n",
    "        mean_and_std = np.load(mu_std)\n",
    "        mean_labels = mean_and_std[0]\n",
    "        std_labels = mean_and_std[1]\n",
    "            \n",
    "        # Generate list of random indices (within the relevant partition of the main data file, e.g. the\n",
    "        # training set) to be used to index into data_file\n",
    "        indices = random.sample(range(indx, indx+num_objects), batch_size)\n",
    "        indices = np.sort(indices)\n",
    "        \n",
    "        # load data\n",
    "        F = h5py.File(data_file, 'r')\n",
    "        X = F['spectrum']\n",
    "        teff = F['TEFF']\n",
    "        logg = F['LOGG']\n",
    "        fe_h = F['FE_H']\n",
    "        \n",
    "        X = X[indices,:]\n",
    "        \n",
    "        y = np.column_stack((teff[:][indices],\n",
    "                                 logg[:][indices],\n",
    "                                 fe_h[:][indices]))\n",
    "        \n",
    "        # Normalize labels\n",
    "        normed_y = (y-mean_labels) / std_labels\n",
    "        \n",
    "        # Reshape X data for compatibility with CNN\n",
    "        X = X.reshape(len(X), 7214, 1)\n",
    "        \n",
    "        return X, normed_y"
   ]
  },
  {
   "cell_type": "markdown",
   "metadata": {},
   "source": [
    "** Create Batch Generators for the Training and Cross-Validation Data **"
   ]
  },
  {
   "cell_type": "code",
   "execution_count": 3,
   "metadata": {
    "collapsed": true
   },
   "outputs": [],
   "source": [
    "def generate_train_batch(data_file, num_objects, batch_size, indx, mu_std):\n",
    "    \n",
    "    while True:\n",
    "        x_batch, y_batch = load_batch_from_h5(data_file, \n",
    "                                                   num_objects, \n",
    "                                                   batch_size, \n",
    "                                                   indx, \n",
    "                                                   mu_std)\n",
    "        yield (x_batch, y_batch)\n",
    "\n",
    "def generate_cv_batch(data_file, num_objects, batch_size, indx, mu_std):\n",
    "    \n",
    "    while True:\n",
    "        x_batch, y_batch = load_batch_from_h5(data_file, \n",
    "                                                   num_objects, \n",
    "                                                   batch_size, \n",
    "                                                   indx, \n",
    "                                                   mu_std)\n",
    "        yield (x_batch, y_batch)"
   ]
  },
  {
   "cell_type": "markdown",
   "metadata": {},
   "source": [
    "** Obtain information from the reference set and the normalization data**"
   ]
  },
  {
   "cell_type": "code",
   "execution_count": 4,
   "metadata": {
    "collapsed": true
   },
   "outputs": [],
   "source": [
    "training_set = 'training_data.h5'\n",
    "normalization_data = 'mean_and_std.npy'"
   ]
  },
  {
   "cell_type": "code",
   "execution_count": 5,
   "metadata": {},
   "outputs": [
    {
     "name": "stdout",
     "output_type": "stream",
     "text": [
      "Each spectrum contains 7214 wavelength bins\n",
      "Training set includes 41000 spectra and the cross-validation set includes 3784 spectra\n"
     ]
    }
   ],
   "source": [
    "# Define the number of output labels\n",
    "num_labels = np.load(datadir+'mean_and_std.npy').shape[1]\n",
    "\n",
    "# Define the number of training spectra\n",
    "num_train = 41000\n",
    "\n",
    "with h5py.File(datadir+training_set, 'r') as F:\n",
    "    spectra = F['spectrum']\n",
    "    num_flux = spectra.shape[1]\n",
    "    num_cv = spectra.shape[0]-num_train\n",
    "print('Each spectrum contains ' + str(num_flux) + ' wavelength bins')\n",
    "print('Training set includes ' + str(num_train) + ' spectra and the cross-validation set includes ' + str(num_cv)+' spectra')"
   ]
  },
  {
   "cell_type": "markdown",
   "metadata": {},
   "source": [
    "**Build the StarNet model architecture**\n",
    "\n",
    "The StarNet architecture is built with:\n",
    "- input layer\n",
    "- 2 convolutional layers\n",
    "- 1 maxpooling layer followed by flattening for the fully connected layer\n",
    "- 2 fully connected layers\n",
    "- output layer\n",
    "\n",
    "First, let's define some model variables."
   ]
  },
  {
   "cell_type": "code",
   "execution_count": 6,
   "metadata": {
    "collapsed": true
   },
   "outputs": [],
   "source": [
    "# activation function used following every layer except for the output layers\n",
    "activation = 'relu'\n",
    "\n",
    "# model weight initializer\n",
    "initializer = 'he_normal'\n",
    "\n",
    "# shape of input spectra that is fed into the input layer\n",
    "input_shape = (None, num_flux, 1)\n",
    "\n",
    "# number of filters used in the convolutional layers\n",
    "num_filters = [4,16]\n",
    "\n",
    "# length of the filters in the convolutional layers\n",
    "filter_length = 8\n",
    "\n",
    "# length of the maxpooling window \n",
    "pool_length = 4\n",
    "\n",
    "# number of nodes in each of the hidden fully connected layers\n",
    "num_hidden = [256,128]\n",
    "\n",
    "# number of spectra fed into model at once during training\n",
    "batch_size = 64\n",
    "\n",
    "# maximum number of interations for model training\n",
    "max_epochs = 30\n",
    "\n",
    "# initial learning rate for optimization algorithm\n",
    "lr = 0.0007\n",
    "    \n",
    "# exponential decay rate for the 1st moment estimates for optimization algorithm\n",
    "beta_1 = 0.9\n",
    "\n",
    "# exponential decay rate for the 2nd moment estimates for optimization algorithm\n",
    "beta_2 = 0.999\n",
    "\n",
    "# a small constant for numerical stability for optimization algorithm\n",
    "optimizer_epsilon = 1e-08"
   ]
  },
  {
   "cell_type": "code",
   "execution_count": 7,
   "metadata": {
    "collapsed": true
   },
   "outputs": [],
   "source": [
    "model = Sequential([\n",
    "    InputLayer(batch_input_shape=input_shape),\n",
    "    Conv1D(kernel_initializer=initializer, activation=activation, padding=\"same\", filters=num_filters[0], kernel_size=filter_length),\n",
    "    Conv1D(kernel_initializer=initializer, activation=activation, padding=\"same\", filters=num_filters[1], kernel_size=filter_length),\n",
    "    MaxPooling1D(pool_size=pool_length),\n",
    "    Flatten(),\n",
    "    Dense(units=num_hidden[0], kernel_initializer=initializer, activation=activation),\n",
    "    Dense(units=num_hidden[1], kernel_initializer=initializer, activation=activation),\n",
    "    Dense(units=num_labels, activation=\"linear\", input_dim=num_hidden[1]),\n",
    "])"
   ]
  },
  {
   "cell_type": "markdown",
   "metadata": {},
   "source": [
    "**More model techniques**\n",
    "* The `Adam` optimizer is the gradient descent algorithm used for minimizing the loss function\n",
    "* `EarlyStopping` uses the cross-validation set to test the model following every iteration and stops the training if the cv loss does not decrease by `min_delta` after `patience` iterations\n",
    "* `ReduceLROnPlateau` is a form of learning rate decay where the learning rate is decreased by a factor of `factor` if the training loss does not decrease by `epsilon` after `patience` iterations unless the learning rate has reached `min_lr`"
   ]
  },
  {
   "cell_type": "code",
   "execution_count": 8,
   "metadata": {
    "collapsed": true
   },
   "outputs": [],
   "source": [
    "# Default loss function parameters\n",
    "early_stopping_min_delta = 0.0001\n",
    "early_stopping_patience = 4\n",
    "reduce_lr_factor = 0.5\n",
    "reuce_lr_epsilon = 0.0009\n",
    "reduce_lr_patience = 2\n",
    "reduce_lr_min = 0.00008\n",
    "\n",
    "# loss function to minimize\n",
    "loss_function = 'mean_squared_error'\n",
    "\n",
    "# compute accuracy and mean absolute deviation\n",
    "metrics = ['accuracy', 'mae']"
   ]
  },
  {
   "cell_type": "code",
   "execution_count": 9,
   "metadata": {
    "collapsed": true
   },
   "outputs": [],
   "source": [
    "optimizer = Adam(lr=lr, beta_1=beta_1, beta_2=beta_2, epsilon=optimizer_epsilon, decay=0.0)\n",
    "\n",
    "early_stopping = EarlyStopping(monitor='val_loss', min_delta=early_stopping_min_delta, \n",
    "                                       patience=early_stopping_patience, verbose=2, mode='min')\n",
    "\n",
    "reduce_lr = ReduceLROnPlateau(monitor='loss', factor=0.5, epsilon=reuce_lr_epsilon, \n",
    "                                  patience=reduce_lr_patience, min_lr=reduce_lr_min, mode='min', verbose=2)"
   ]
  },
  {
   "cell_type": "markdown",
   "metadata": {},
   "source": [
    "**Compile model**"
   ]
  },
  {
   "cell_type": "code",
   "execution_count": 10,
   "metadata": {
    "collapsed": true
   },
   "outputs": [],
   "source": [
    "model.compile(optimizer=optimizer, loss=loss_function, metrics=metrics)"
   ]
  },
  {
   "cell_type": "markdown",
   "metadata": {},
   "source": [
    "**Train model**"
   ]
  },
  {
   "cell_type": "code",
   "execution_count": 11,
   "metadata": {},
   "outputs": [
    {
     "name": "stdout",
     "output_type": "stream",
     "text": [
      "Epoch 1/30\n",
      "70s - loss: 0.2687 - acc: 0.7139 - mean_absolute_error: 0.2693 - val_loss: 0.0482 - val_acc: 0.7924 - val_mean_absolute_error: 0.1706\n",
      "Epoch 2/30\n",
      "70s - loss: 0.0358 - acc: 0.7787 - mean_absolute_error: 0.1372 - val_loss: 0.0229 - val_acc: 0.7918 - val_mean_absolute_error: 0.1085\n",
      "Epoch 3/30\n",
      "70s - loss: 0.0266 - acc: 0.7935 - mean_absolute_error: 0.1135 - val_loss: 0.0184 - val_acc: 0.8183 - val_mean_absolute_error: 0.0970\n",
      "Epoch 4/30\n",
      "70s - loss: 0.0162 - acc: 0.8260 - mean_absolute_error: 0.0902 - val_loss: 0.0129 - val_acc: 0.8535 - val_mean_absolute_error: 0.0760\n",
      "Epoch 5/30\n",
      "70s - loss: 0.0120 - acc: 0.8463 - mean_absolute_error: 0.0775 - val_loss: 0.0115 - val_acc: 0.8795 - val_mean_absolute_error: 0.0831\n",
      "Epoch 6/30\n",
      "70s - loss: 0.0092 - acc: 0.8735 - mean_absolute_error: 0.0689 - val_loss: 0.0094 - val_acc: 0.8530 - val_mean_absolute_error: 0.0748\n",
      "Epoch 7/30\n",
      "71s - loss: 0.0081 - acc: 0.8871 - mean_absolute_error: 0.0638 - val_loss: 0.0103 - val_acc: 0.8713 - val_mean_absolute_error: 0.0679\n",
      "Epoch 8/30\n",
      "70s - loss: 0.0075 - acc: 0.8969 - mean_absolute_error: 0.0611 - val_loss: 0.0110 - val_acc: 0.8318 - val_mean_absolute_error: 0.0706\n",
      "Epoch 9/30\n",
      "71s - loss: 0.0075 - acc: 0.8957 - mean_absolute_error: 0.0613 - val_loss: 0.0077 - val_acc: 0.9182 - val_mean_absolute_error: 0.0619\n",
      "Epoch 10/30\n",
      "70s - loss: 0.0063 - acc: 0.9048 - mean_absolute_error: 0.0569 - val_loss: 0.0055 - val_acc: 0.9118 - val_mean_absolute_error: 0.0494\n",
      "Epoch 11/30\n",
      "71s - loss: 0.0089 - acc: 0.8997 - mean_absolute_error: 0.0628 - val_loss: 0.0079 - val_acc: 0.9160 - val_mean_absolute_error: 0.0669\n",
      "Epoch 12/30\n",
      "70s - loss: 0.0058 - acc: 0.9128 - mean_absolute_error: 0.0543 - val_loss: 0.0045 - val_acc: 0.9240 - val_mean_absolute_error: 0.0461\n",
      "Epoch 13/30\n",
      "70s - loss: 0.0051 - acc: 0.9187 - mean_absolute_error: 0.0511 - val_loss: 0.0055 - val_acc: 0.9235 - val_mean_absolute_error: 0.0512\n",
      "Epoch 14/30\n",
      "71s - loss: 0.0050 - acc: 0.9148 - mean_absolute_error: 0.0509 - val_loss: 0.0058 - val_acc: 0.9129 - val_mean_absolute_error: 0.0554\n",
      "Epoch 15/30\n",
      "71s - loss: 0.0048 - acc: 0.9186 - mean_absolute_error: 0.0502 - val_loss: 0.0057 - val_acc: 0.9182 - val_mean_absolute_error: 0.0538\n",
      "Epoch 16/30\n",
      "\n",
      "Epoch 00015: reducing learning rate to 0.00034999998752.\n",
      "70s - loss: 0.0047 - acc: 0.9157 - mean_absolute_error: 0.0498 - val_loss: 0.0048 - val_acc: 0.9266 - val_mean_absolute_error: 0.0446\n",
      "Epoch 17/30\n",
      "70s - loss: 0.0034 - acc: 0.9328 - mean_absolute_error: 0.0415 - val_loss: 0.0039 - val_acc: 0.9319 - val_mean_absolute_error: 0.0426\n",
      "Epoch 18/30\n",
      "70s - loss: 0.0032 - acc: 0.9330 - mean_absolute_error: 0.0408 - val_loss: 0.0038 - val_acc: 0.9258 - val_mean_absolute_error: 0.0419\n",
      "Epoch 19/30\n",
      "69s - loss: 0.0034 - acc: 0.9303 - mean_absolute_error: 0.0419 - val_loss: 0.0034 - val_acc: 0.9420 - val_mean_absolute_error: 0.0397\n",
      "Epoch 20/30\n",
      "\n",
      "Epoch 00019: reducing learning rate to 0.00017499999376.\n",
      "71s - loss: 0.0031 - acc: 0.9359 - mean_absolute_error: 0.0408 - val_loss: 0.0038 - val_acc: 0.9343 - val_mean_absolute_error: 0.0402\n",
      "Epoch 21/30\n",
      "71s - loss: 0.0026 - acc: 0.9391 - mean_absolute_error: 0.0370 - val_loss: 0.0032 - val_acc: 0.9386 - val_mean_absolute_error: 0.0400\n",
      "Epoch 22/30\n",
      "\n",
      "Epoch 00021: reducing learning rate to 8.74999968801e-05.\n",
      "70s - loss: 0.0027 - acc: 0.9391 - mean_absolute_error: 0.0373 - val_loss: 0.0032 - val_acc: 0.9409 - val_mean_absolute_error: 0.0396\n",
      "Epoch 23/30\n",
      "70s - loss: 0.0024 - acc: 0.9439 - mean_absolute_error: 0.0351 - val_loss: 0.0038 - val_acc: 0.9394 - val_mean_absolute_error: 0.0390\n",
      "Epoch 24/30\n",
      "71s - loss: 0.0023 - acc: 0.9427 - mean_absolute_error: 0.0350 - val_loss: 0.0032 - val_acc: 0.9409 - val_mean_absolute_error: 0.0397\n",
      "Epoch 25/30\n",
      "71s - loss: 0.0023 - acc: 0.9408 - mean_absolute_error: 0.0350 - val_loss: 0.0038 - val_acc: 0.9409 - val_mean_absolute_error: 0.0403\n",
      "Epoch 26/30\n",
      "\n",
      "Epoch 00025: reducing learning rate to 8e-05.\n",
      "70s - loss: 0.0024 - acc: 0.9413 - mean_absolute_error: 0.0347 - val_loss: 0.0030 - val_acc: 0.9457 - val_mean_absolute_error: 0.0380\n",
      "Epoch 27/30\n",
      "70s - loss: 0.0022 - acc: 0.9419 - mean_absolute_error: 0.0343 - val_loss: 0.0034 - val_acc: 0.9346 - val_mean_absolute_error: 0.0388\n",
      "Epoch 28/30\n",
      "71s - loss: 0.0023 - acc: 0.9463 - mean_absolute_error: 0.0344 - val_loss: 0.0037 - val_acc: 0.9378 - val_mean_absolute_error: 0.0377\n",
      "Epoch 29/30\n",
      "70s - loss: 0.0023 - acc: 0.9419 - mean_absolute_error: 0.0342 - val_loss: 0.0041 - val_acc: 0.9314 - val_mean_absolute_error: 0.0387\n",
      "Epoch 30/30\n",
      "71s - loss: 0.0023 - acc: 0.9436 - mean_absolute_error: 0.0342 - val_loss: 0.0036 - val_acc: 0.9412 - val_mean_absolute_error: 0.0392\n"
     ]
    },
    {
     "data": {
      "text/plain": [
       "<keras.callbacks.History at 0x7fe5a8a0c6d0>"
      ]
     },
     "execution_count": 11,
     "metadata": {},
     "output_type": "execute_result"
    }
   ],
   "source": [
    "model.fit_generator(generate_train_batch(datadir+training_set, \n",
    "                                         num_train, batch_size, 0, \n",
    "                                         datadir+normalization_data),\n",
    "                                  steps_per_epoch = num_train/batch_size,\n",
    "                                  epochs=max_epochs,\n",
    "                                  validation_data=generate_cv_batch(datadir+training_set, \n",
    "                                                                    num_cv, batch_size, num_train,\n",
    "                                                                    datadir+normalization_data),\n",
    "                                  max_q_size=10, verbose=2,\n",
    "                                  callbacks=[early_stopping, reduce_lr],\n",
    "                                 validation_steps=num_cv/batch_size)"
   ]
  },
  {
   "cell_type": "markdown",
   "metadata": {},
   "source": [
    "**Save model**"
   ]
  },
  {
   "cell_type": "code",
   "execution_count": 12,
   "metadata": {},
   "outputs": [
    {
     "name": "stdout",
     "output_type": "stream",
     "text": [
      "starnet_cnn.h5 saved.\n"
     ]
    }
   ],
   "source": [
    "starnet_model = 'starnet_cnn.h5'\n",
    "model.save(datadir + starnet_model)\n",
    "print(starnet_model+' saved.')"
   ]
  }
 ],
 "metadata": {
  "kernelspec": {
   "display_name": "Python 2",
   "language": "python",
   "name": "python2"
  },
  "language_info": {
   "codemirror_mode": {
    "name": "ipython",
    "version": 2
   },
   "file_extension": ".py",
   "mimetype": "text/x-python",
   "name": "python",
   "nbconvert_exporter": "python",
   "pygments_lexer": "ipython2",
   "version": "2.7.13"
  }
 },
 "nbformat": 4,
 "nbformat_minor": 2
}
